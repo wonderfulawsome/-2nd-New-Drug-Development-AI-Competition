{
 "cells": [
  {
   "cell_type": "code",
   "execution_count": 1,
   "metadata": {},
   "outputs": [
    {
     "name": "stdout",
     "output_type": "stream",
     "text": [
      "Requirement already satisfied: pymysql in c:\\users\\82106\\appdata\\local\\programs\\python\\python310\\lib\\site-packages (1.1.0)\n",
      "Note: you may need to restart the kernel to use updated packages.\n"
     ]
    },
    {
     "name": "stderr",
     "output_type": "stream",
     "text": [
      "WARNING: Ignoring invalid distribution -ysql-connector-python (c:\\users\\82106\\appdata\\local\\programs\\python\\python310\\lib\\site-packages)\n",
      "WARNING: Ignoring invalid distribution -ensorflow-intel (c:\\users\\82106\\appdata\\local\\programs\\python\\python310\\lib\\site-packages)\n",
      "WARNING: Ignoring invalid distribution -ysql-connector-python (c:\\users\\82106\\appdata\\local\\programs\\python\\python310\\lib\\site-packages)\n",
      "WARNING: Ignoring invalid distribution -ensorflow-intel (c:\\users\\82106\\appdata\\local\\programs\\python\\python310\\lib\\site-packages)\n",
      "WARNING: Ignoring invalid distribution -ysql-connector-python (c:\\users\\82106\\appdata\\local\\programs\\python\\python310\\lib\\site-packages)\n",
      "WARNING: Ignoring invalid distribution -ensorflow-intel (c:\\users\\82106\\appdata\\local\\programs\\python\\python310\\lib\\site-packages)\n",
      "WARNING: Ignoring invalid distribution -ysql-connector-python (c:\\users\\82106\\appdata\\local\\programs\\python\\python310\\lib\\site-packages)\n",
      "WARNING: Ignoring invalid distribution -ensorflow-intel (c:\\users\\82106\\appdata\\local\\programs\\python\\python310\\lib\\site-packages)\n",
      "WARNING: Ignoring invalid distribution -ysql-connector-python (c:\\users\\82106\\appdata\\local\\programs\\python\\python310\\lib\\site-packages)\n",
      "WARNING: Ignoring invalid distribution -ensorflow-intel (c:\\users\\82106\\appdata\\local\\programs\\python\\python310\\lib\\site-packages)\n",
      "WARNING: Ignoring invalid distribution -ysql-connector-python (c:\\users\\82106\\appdata\\local\\programs\\python\\python310\\lib\\site-packages)\n",
      "WARNING: Ignoring invalid distribution -ensorflow-intel (c:\\users\\82106\\appdata\\local\\programs\\python\\python310\\lib\\site-packages)\n",
      "WARNING: You are using pip version 21.2.4; however, version 24.2 is available.\n",
      "You should consider upgrading via the 'c:\\Users\\82106\\AppData\\Local\\Programs\\Python\\Python310\\python.exe -m pip install --upgrade pip' command.\n"
     ]
    }
   ],
   "source": [
    "pip install pymysql"
   ]
  },
  {
   "cell_type": "code",
   "execution_count": 5,
   "metadata": {},
   "outputs": [],
   "source": [
    "import pymysql\n",
    "import pandas as pd\n",
    "\n",
    "# MySQL 서버 연결 정보\n",
    "connection = pymysql.connect(\n",
    "    host='127.0.0.1',    \n",
    "    port=3307,           \n",
    "    user='root',         \n",
    "    password='123',  \n",
    "    database='my_database'   \n",
    ")"
   ]
  },
  {
   "cell_type": "code",
   "execution_count": 6,
   "metadata": {},
   "outputs": [
    {
     "name": "stdout",
     "output_type": "stream",
     "text": [
      "  癤풫olecule ChEMBL ID Standard Type Standard Relation  Standard Value  \\\n",
      "0       CHEMBL4443947          IC50                 =           0.022   \n",
      "1       CHEMBL4556091          IC50                 =           0.026   \n",
      "2       CHEMBL4566431          IC50                 =           0.078   \n",
      "3       CHEMBL4545898          IC50                 =           0.081   \n",
      "4       CHEMBL4448950          IC50                 =           0.099   \n",
      "\n",
      "  Standard Units  pChEMBL Value Assay ChEMBL ID Target ChEMBL ID  \\\n",
      "0             nM          10.66   CHEMBL4361896       CHEMBL3778   \n",
      "1             nM          10.59   CHEMBL4345131       CHEMBL3778   \n",
      "2             nM          10.11   CHEMBL4345131       CHEMBL3778   \n",
      "3             nM          10.09   CHEMBL4345131       CHEMBL3778   \n",
      "4             nM          10.00   CHEMBL4361896       CHEMBL3778   \n",
      "\n",
      "                                  Target Name Target Organism     Target Type  \\\n",
      "0  Interleukin-1 receptor-associated kinase 4    Homo sapiens  SINGLE PROTEIN   \n",
      "1  Interleukin-1 receptor-associated kinase 4    Homo sapiens  SINGLE PROTEIN   \n",
      "2  Interleukin-1 receptor-associated kinase 4    Homo sapiens  SINGLE PROTEIN   \n",
      "3  Interleukin-1 receptor-associated kinase 4    Homo sapiens  SINGLE PROTEIN   \n",
      "4  Interleukin-1 receptor-associated kinase 4    Homo sapiens  SINGLE PROTEIN   \n",
      "\n",
      "  Document ChEMBL ID  IC50_nM  pIC50  \\\n",
      "0      CHEMBL4359855    0.022  10.66   \n",
      "1      CHEMBL4342485    0.026  10.59   \n",
      "2      CHEMBL4342485    0.078  10.11   \n",
      "3      CHEMBL4342485    0.081  10.09   \n",
      "4      CHEMBL4359855    0.099  10.00   \n",
      "\n",
      "                                              Smiles  \n",
      "0  CN[C@@H](C)C(=O)N[C@H](C(=O)N1C[C@@H](NC(=O)CC...  \n",
      "1  CC(C)(O)[C@H](F)CN1Cc2cc(NC(=O)c3cnn4cccnc34)c...  \n",
      "2  CC(C)(O)[C@H](F)CN1Cc2cc(NC(=O)c3cnn4cccnc34)c...  \n",
      "3  CC(C)(O)[C@H](F)CN1Cc2cc(NC(=O)c3cnn4cccnc34)c...  \n",
      "4  COc1cc2c(OC[C@@H]3CCC(=O)N3)ncc(C#CCCCCCCCCCCC...  \n"
     ]
    },
    {
     "name": "stderr",
     "output_type": "stream",
     "text": [
      "C:\\Users\\82106\\AppData\\Local\\Temp\\ipykernel_1360\\2555344564.py:4: UserWarning: pandas only supports SQLAlchemy connectable (engine/connection) or database string URI or sqlite3 DBAPI2 connection. Other DBAPI2 objects are not tested. Please consider using SQLAlchemy.\n",
      "  train_df = pd.read_sql(query, connection)\n"
     ]
    }
   ],
   "source": [
    "try:\n",
    "    # SQL 쿼리 실행\n",
    "    query = \"SELECT * FROM train;\"  # 'train' 테이블에서 데이터를 가져오는 쿼리\n",
    "    train_df = pd.read_sql(query, connection)\n",
    "\n",
    "    # 가져온 데이터 확인\n",
    "    print(train_df.head())  # 데이터의 첫 5행을 출력\n",
    "\n",
    "finally:\n",
    "    connection.close()  # 데이터베이스 연결 종료"
   ]
  },
  {
   "cell_type": "markdown",
   "metadata": {},
   "source": [
    "### 데이터 정보 \n",
    "IC50(Half Maximal Inhibitory Concentration)은 생물학적 또는 생화학적 반응에서 약물, 화합물, 또는 물질이 효소나 다른 생물학적 과정을 50% 억제하는 데 필요한 농도를 의미"
   ]
  },
  {
   "cell_type": "markdown",
   "metadata": {},
   "source": [
    "pChEMBL Value는 생물학적 활성 값을 로그 변환한 값"
   ]
  },
  {
   "cell_type": "markdown",
   "metadata": {},
   "source": []
  }
 ],
 "metadata": {
  "kernelspec": {
   "display_name": "Python 3",
   "language": "python",
   "name": "python3"
  },
  "language_info": {
   "codemirror_mode": {
    "name": "ipython",
    "version": 3
   },
   "file_extension": ".py",
   "mimetype": "text/x-python",
   "name": "python",
   "nbconvert_exporter": "python",
   "pygments_lexer": "ipython3",
   "version": "3.10.2"
  }
 },
 "nbformat": 4,
 "nbformat_minor": 2
}
