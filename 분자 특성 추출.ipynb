{
 "cells": [
  {
   "cell_type": "code",
   "execution_count": 1,
   "metadata": {},
   "outputs": [
    {
     "name": "stdout",
     "output_type": "stream",
     "text": [
      "Requirement already satisfied: rdkit-pypi in c:\\users\\82106\\appdata\\local\\programs\\python\\python310\\lib\\site-packages (2022.9.5)\n",
      "Requirement already satisfied: numpy in c:\\users\\82106\\appdata\\local\\programs\\python\\python310\\lib\\site-packages (from rdkit-pypi) (1.26.4)\n",
      "Requirement already satisfied: Pillow in c:\\users\\82106\\appdata\\local\\programs\\python\\python310\\lib\\site-packages (from rdkit-pypi) (10.2.0)\n",
      "Note: you may need to restart the kernel to use updated packages.\n"
     ]
    },
    {
     "name": "stderr",
     "output_type": "stream",
     "text": [
      "WARNING: Ignoring invalid distribution -ysql-connector-python (c:\\users\\82106\\appdata\\local\\programs\\python\\python310\\lib\\site-packages)\n",
      "WARNING: Ignoring invalid distribution -ensorflow-intel (c:\\users\\82106\\appdata\\local\\programs\\python\\python310\\lib\\site-packages)\n",
      "WARNING: Ignoring invalid distribution -ysql-connector-python (c:\\users\\82106\\appdata\\local\\programs\\python\\python310\\lib\\site-packages)\n",
      "WARNING: Ignoring invalid distribution -ensorflow-intel (c:\\users\\82106\\appdata\\local\\programs\\python\\python310\\lib\\site-packages)\n",
      "WARNING: Ignoring invalid distribution -ysql-connector-python (c:\\users\\82106\\appdata\\local\\programs\\python\\python310\\lib\\site-packages)\n",
      "WARNING: Ignoring invalid distribution -ensorflow-intel (c:\\users\\82106\\appdata\\local\\programs\\python\\python310\\lib\\site-packages)\n",
      "WARNING: Ignoring invalid distribution -ysql-connector-python (c:\\users\\82106\\appdata\\local\\programs\\python\\python310\\lib\\site-packages)\n",
      "WARNING: Ignoring invalid distribution -ensorflow-intel (c:\\users\\82106\\appdata\\local\\programs\\python\\python310\\lib\\site-packages)\n",
      "WARNING: Ignoring invalid distribution -ysql-connector-python (c:\\users\\82106\\appdata\\local\\programs\\python\\python310\\lib\\site-packages)\n",
      "WARNING: Ignoring invalid distribution -ensorflow-intel (c:\\users\\82106\\appdata\\local\\programs\\python\\python310\\lib\\site-packages)\n",
      "WARNING: Ignoring invalid distribution -ysql-connector-python (c:\\users\\82106\\appdata\\local\\programs\\python\\python310\\lib\\site-packages)\n",
      "WARNING: Ignoring invalid distribution -ensorflow-intel (c:\\users\\82106\\appdata\\local\\programs\\python\\python310\\lib\\site-packages)\n",
      "WARNING: You are using pip version 21.2.4; however, version 24.2 is available.\n",
      "You should consider upgrading via the 'c:\\Users\\82106\\AppData\\Local\\Programs\\Python\\Python310\\python.exe -m pip install --upgrade pip' command.\n"
     ]
    }
   ],
   "source": [
    "pip install rdkit-pypi"
   ]
  },
  {
   "cell_type": "code",
   "execution_count": 2,
   "metadata": {},
   "outputs": [],
   "source": [
    "import pymysql\n",
    "import pandas as pd\n",
    "\n",
    "# MySQL 서버 연결 정보\n",
    "connection = pymysql.connect(\n",
    "    host='127.0.0.1',    \n",
    "    port=3307,           \n",
    "    user='root',         \n",
    "    password='123',  \n",
    "    database='my_database'   \n",
    ")"
   ]
  },
  {
   "cell_type": "code",
   "execution_count": 3,
   "metadata": {},
   "outputs": [
    {
     "name": "stderr",
     "output_type": "stream",
     "text": [
      "C:\\Users\\82106\\AppData\\Local\\Temp\\ipykernel_46772\\2256127756.py:2: UserWarning: pandas only supports SQLAlchemy connectable (engine/connection) or database string URI or sqlite3 DBAPI2 connection. Other DBAPI2 objects are not tested. Please consider using SQLAlchemy.\n",
      "  train_df = pd.read_sql(query, connection)\n"
     ]
    }
   ],
   "source": [
    "query = \"SELECT * FROM train;\"  # 'train' 테이블에서 데이터를 가져오는 쿼리\n",
    "train_df = pd.read_sql(query, connection)"
   ]
  },
  {
   "cell_type": "code",
   "execution_count": 4,
   "metadata": {},
   "outputs": [],
   "source": [
    "from rdkit import Chem\n",
    "from rdkit.Chem import Descriptors"
   ]
  },
  {
   "cell_type": "code",
   "execution_count": 5,
   "metadata": {},
   "outputs": [],
   "source": [
    "# 분자 특성 계산 함수 정의\n",
    "def calculate_descriptors(smiles):\n",
    "    mol = Chem.MolFromSmiles(smiles)\n",
    "    if mol is None:\n",
    "        return None, None, None, None\n",
    "    \n",
    "    # 분자량 계산 \n",
    "    molecular_weight = Descriptors.MolWt(mol) #mol= smiles의 분자 객체\n",
    "    # LogP 계산 (분자의 소수성 지표)\n",
    "    logp = Descriptors.MolLogP(mol)\n",
    "    # 수소 결합 수용체 수\n",
    "    num_h_acceptors = Descriptors.NumHAcceptors(mol)\n",
    "    # 수소 결합 공여체 수\n",
    "    num_h_donors = Descriptors.NumHDonors(mol)\n",
    "    \n",
    "    return molecular_weight, logp, num_h_acceptors, num_h_donors"
   ]
  },
  {
   "cell_type": "markdown",
   "metadata": {},
   "source": [
    "**각 SMILES 문자열에 대해 MolecularWeight, LogP, NumHAcceptors, NumHDonors 값을 계산하여 데이터프레임에 새로운 열로 추가**"
   ]
  },
  {
   "cell_type": "code",
   "execution_count": 9,
   "metadata": {},
   "outputs": [],
   "source": [
    "# 각 SMILES에 대해 특성 계산\n",
    "train_df['MolecularWeight'], train_df['LogP'], train_df['NumHAcceptors'], train_df['NumHDonors'] = zip(\n",
    "    *train_df['Smiles'].apply(calculate_descriptors)\n",
    ")"
   ]
  },
  {
   "cell_type": "code",
   "execution_count": 12,
   "metadata": {},
   "outputs": [
    {
     "data": {
      "text/plain": [
       "癤풫olecule ChEMBL ID    0\n",
       "Standard Type          0\n",
       "Standard Relation      0\n",
       "Standard Value         0\n",
       "Standard Units         0\n",
       "pChEMBL Value          0\n",
       "Assay ChEMBL ID        0\n",
       "Target ChEMBL ID       0\n",
       "Target Name            0\n",
       "Target Organism        0\n",
       "Target Type            0\n",
       "Document ChEMBL ID     0\n",
       "IC50_nM                0\n",
       "pIC50                  0\n",
       "Smiles                 0\n",
       "MolecularWeight        0\n",
       "LogP                   0\n",
       "NumHAcceptors          0\n",
       "NumHDonors             0\n",
       "dtype: int64"
      ]
     },
     "execution_count": 12,
     "metadata": {},
     "output_type": "execute_result"
    }
   ],
   "source": [
    "train_df.isnull().sum()"
   ]
  },
  {
   "cell_type": "markdown",
   "metadata": {},
   "source": [
    "결측치 없음"
   ]
  },
  {
   "cell_type": "code",
   "execution_count": 13,
   "metadata": {},
   "outputs": [],
   "source": [
    "# 새롭게 생성된 데이터 CSV 파일로 저장\n",
    "train_df.to_csv('C:/Users/82106/Desktop/데이콘/제 2회 신약개발/데이터/open/molecular_descriptors.csv', index=False)"
   ]
  },
  {
   "cell_type": "code",
   "execution_count": null,
   "metadata": {},
   "outputs": [],
   "source": []
  }
 ],
 "metadata": {
  "kernelspec": {
   "display_name": "Python 3",
   "language": "python",
   "name": "python3"
  },
  "language_info": {
   "codemirror_mode": {
    "name": "ipython",
    "version": 3
   },
   "file_extension": ".py",
   "mimetype": "text/x-python",
   "name": "python",
   "nbconvert_exporter": "python",
   "pygments_lexer": "ipython3",
   "version": "3.10.2"
  }
 },
 "nbformat": 4,
 "nbformat_minor": 2
}
